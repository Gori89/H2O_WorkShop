{
 "cells": [
  {
   "cell_type": "code",
   "execution_count": 68,
   "metadata": {},
   "outputs": [],
   "source": [
    "import h2o\n",
    "import numpy as np\n",
    "import pandas as pd\n"
   ]
  },
  {
   "cell_type": "markdown",
   "metadata": {},
   "source": [
    "## 1. Entrada en el bar"
   ]
  },
  {
   "cell_type": "markdown",
   "metadata": {},
   "source": [
    "- pip install h2o\n",
    "- sudo apt install default-jre\n",
    "- sudo apt install default-jdk"
   ]
  },
  {
   "cell_type": "markdown",
   "metadata": {},
   "source": [
    "### Conexión"
   ]
  },
  {
   "cell_type": "code",
   "execution_count": 55,
   "metadata": {},
   "outputs": [
    {
     "name": "stdout",
     "output_type": "stream",
     "text": [
      "Checking whether there is an H2O instance running at http://localhost:54321 . connected.\n"
     ]
    },
    {
     "data": {
      "text/html": [
       "<div style=\"overflow:auto\"><table style=\"width:50%\"><tr><td>H2O cluster uptime:</td>\n",
       "<td>55 mins 55 secs</td></tr>\n",
       "<tr><td>H2O cluster timezone:</td>\n",
       "<td>Europe/Madrid</td></tr>\n",
       "<tr><td>H2O data parsing timezone:</td>\n",
       "<td>UTC</td></tr>\n",
       "<tr><td>H2O cluster version:</td>\n",
       "<td>3.26.0.11</td></tr>\n",
       "<tr><td>H2O cluster version age:</td>\n",
       "<td>1 day </td></tr>\n",
       "<tr><td>H2O cluster name:</td>\n",
       "<td>H2O_from_python_frn_bpuof0</td></tr>\n",
       "<tr><td>H2O cluster total nodes:</td>\n",
       "<td>1</td></tr>\n",
       "<tr><td>H2O cluster free memory:</td>\n",
       "<td>3.980 Gb</td></tr>\n",
       "<tr><td>H2O cluster total cores:</td>\n",
       "<td>8</td></tr>\n",
       "<tr><td>H2O cluster allowed cores:</td>\n",
       "<td>8</td></tr>\n",
       "<tr><td>H2O cluster status:</td>\n",
       "<td>locked, healthy</td></tr>\n",
       "<tr><td>H2O connection url:</td>\n",
       "<td>http://localhost:54321</td></tr>\n",
       "<tr><td>H2O connection proxy:</td>\n",
       "<td>{'http': None, 'https': None}</td></tr>\n",
       "<tr><td>H2O internal security:</td>\n",
       "<td>False</td></tr>\n",
       "<tr><td>H2O API Extensions:</td>\n",
       "<td>Amazon S3, XGBoost, Algos, AutoML, Core V3, TargetEncoder, Core V4</td></tr>\n",
       "<tr><td>Python version:</td>\n",
       "<td>3.7.4 final</td></tr></table></div>"
      ],
      "text/plain": [
       "--------------------------  ------------------------------------------------------------------\n",
       "H2O cluster uptime:         55 mins 55 secs\n",
       "H2O cluster timezone:       Europe/Madrid\n",
       "H2O data parsing timezone:  UTC\n",
       "H2O cluster version:        3.26.0.11\n",
       "H2O cluster version age:    1 day\n",
       "H2O cluster name:           H2O_from_python_frn_bpuof0\n",
       "H2O cluster total nodes:    1\n",
       "H2O cluster free memory:    3.980 Gb\n",
       "H2O cluster total cores:    8\n",
       "H2O cluster allowed cores:  8\n",
       "H2O cluster status:         locked, healthy\n",
       "H2O connection url:         http://localhost:54321\n",
       "H2O connection proxy:       {'http': None, 'https': None}\n",
       "H2O internal security:      False\n",
       "H2O API Extensions:         Amazon S3, XGBoost, Algos, AutoML, Core V3, TargetEncoder, Core V4\n",
       "Python version:             3.7.4 final\n",
       "--------------------------  ------------------------------------------------------------------"
      ]
     },
     "metadata": {},
     "output_type": "display_data"
    }
   ],
   "source": [
    "#Inicializar H2O dandole acceso a todas las CPUs y 4GB de memoria\n",
    "h2o.init(nthreads = -1, max_mem_size = 4)"
   ]
  },
  {
   "cell_type": "code",
   "execution_count": 14,
   "metadata": {},
   "outputs": [
    {
     "name": "stdout",
     "output_type": "stream",
     "text": [
      "[WARNING] in <ipython-input-14-02ff3806b010> line 1:\n",
      "    >>> h2o.shutdown(prompt=False)\n",
      "        ^^^^ Deprecated, use ``h2o.cluster().shutdown()``.\n",
      "H2O session _sid_aac8 closed.\n"
     ]
    }
   ],
   "source": [
    "#h2o.shutdown(prompt=False)"
   ]
  },
  {
   "cell_type": "markdown",
   "metadata": {},
   "source": [
    "## 2. Invitar a los datos a una copa"
   ]
  },
  {
   "cell_type": "code",
   "execution_count": 57,
   "metadata": {},
   "outputs": [
    {
     "name": "stdout",
     "output_type": "stream",
     "text": [
      "Parse progress: |█████████████████████████████████████████████████████████| 100%\n"
     ]
    },
    {
     "data": {
      "text/html": [
       "<table>\n",
       "<thead>\n",
       "<tr><th style=\"text-align: right;\">  C1</th><th>C2  </th><th style=\"text-align: right;\">  C3</th></tr>\n",
       "</thead>\n",
       "<tbody>\n",
       "<tr><td style=\"text-align: right;\">   1</td><td>a   </td><td style=\"text-align: right;\"> 0.1</td></tr>\n",
       "<tr><td style=\"text-align: right;\">   2</td><td>b   </td><td style=\"text-align: right;\"> 0.2</td></tr>\n",
       "<tr><td style=\"text-align: right;\">   3</td><td>c   </td><td style=\"text-align: right;\"> 0.3</td></tr>\n",
       "</tbody>\n",
       "</table>"
      ]
     },
     "metadata": {},
     "output_type": "display_data"
    },
    {
     "data": {
      "text/plain": []
     },
     "execution_count": 57,
     "metadata": {},
     "output_type": "execute_result"
    }
   ],
   "source": [
    "df = h2o.H2OFrame(list(zip(*((1, 2, 3), ('a', 'b', 'c'), (0.1, 0.2, 0.3)))))\n",
    "df"
   ]
  },
  {
   "cell_type": "code",
   "execution_count": 63,
   "metadata": {},
   "outputs": [
    {
     "name": "stdout",
     "output_type": "stream",
     "text": [
      "Parse progress: |█████████████████████████████████████████████████████████| 100%\n"
     ]
    },
    {
     "data": {
      "text/html": [
       "<table>\n",
       "<thead>\n",
       "<tr><th style=\"text-align: right;\">  A</th><th>B  </th><th style=\"text-align: right;\">  C</th></tr>\n",
       "</thead>\n",
       "<tbody>\n",
       "<tr><td style=\"text-align: right;\">  1</td><td>a  </td><td style=\"text-align: right;\">0.1</td></tr>\n",
       "<tr><td style=\"text-align: right;\">  2</td><td>b  </td><td style=\"text-align: right;\">0.2</td></tr>\n",
       "<tr><td style=\"text-align: right;\">  3</td><td>c  </td><td style=\"text-align: right;\">0.3</td></tr>\n",
       "</tbody>\n",
       "</table>"
      ]
     },
     "metadata": {},
     "output_type": "display_data"
    },
    {
     "data": {
      "text/plain": []
     },
     "execution_count": 63,
     "metadata": {},
     "output_type": "execute_result"
    }
   ],
   "source": [
    "df= h2o.H2OFrame({'A': [1, 2, 3],'B': ['a', 'b', 'c'],'C': [0.1, 0.2, 0.3]})\n",
    "df"
   ]
  },
  {
   "cell_type": "code",
   "execution_count": 65,
   "metadata": {},
   "outputs": [
    {
     "name": "stdout",
     "output_type": "stream",
     "text": [
      "Parse progress: |█████████████████████████████████████████████████████████| 100%\n"
     ]
    }
   ],
   "source": [
    "titanic= h2o.import_file('titanic.csv')"
   ]
  },
  {
   "cell_type": "code",
   "execution_count": 77,
   "metadata": {},
   "outputs": [
    {
     "name": "stdout",
     "output_type": "stream",
     "text": [
      "Parse progress: |█████████████████████████████████████████████████████████| 100%\n"
     ]
    },
    {
     "data": {
      "text/html": [
       "<table>\n",
       "<thead>\n",
       "<tr><th style=\"text-align: right;\">  PassengerId</th><th style=\"text-align: right;\">  Survived</th><th style=\"text-align: right;\">  Pclass</th><th>Name                                               </th><th>Sex   </th><th style=\"text-align: right;\">  Age</th><th style=\"text-align: right;\">  SibSp</th><th style=\"text-align: right;\">  Parch</th><th style=\"text-align: right;\">  Ticket</th><th style=\"text-align: right;\">   Fare</th><th>Cabin  </th><th>Embarked  </th></tr>\n",
       "</thead>\n",
       "<tbody>\n",
       "<tr><td style=\"text-align: right;\">            1</td><td style=\"text-align: right;\">         0</td><td style=\"text-align: right;\">       3</td><td>Braund, Mr. Owen Harris                            </td><td>male  </td><td style=\"text-align: right;\">   22</td><td style=\"text-align: right;\">      1</td><td style=\"text-align: right;\">      0</td><td style=\"text-align: right;\">     nan</td><td style=\"text-align: right;\"> 7.25  </td><td>nan    </td><td>S         </td></tr>\n",
       "<tr><td style=\"text-align: right;\">            2</td><td style=\"text-align: right;\">         1</td><td style=\"text-align: right;\">       1</td><td>Cumings, Mrs. John Bradley (Florence Briggs Thayer)</td><td>female</td><td style=\"text-align: right;\">   38</td><td style=\"text-align: right;\">      1</td><td style=\"text-align: right;\">      0</td><td style=\"text-align: right;\">     nan</td><td style=\"text-align: right;\">71.2833</td><td>C85    </td><td>C         </td></tr>\n",
       "<tr><td style=\"text-align: right;\">            3</td><td style=\"text-align: right;\">         1</td><td style=\"text-align: right;\">       3</td><td>Heikkinen, Miss. Laina                             </td><td>female</td><td style=\"text-align: right;\">   26</td><td style=\"text-align: right;\">      0</td><td style=\"text-align: right;\">      0</td><td style=\"text-align: right;\">     nan</td><td style=\"text-align: right;\"> 7.925 </td><td>nan    </td><td>S         </td></tr>\n",
       "<tr><td style=\"text-align: right;\">            4</td><td style=\"text-align: right;\">         1</td><td style=\"text-align: right;\">       1</td><td>Futrelle, Mrs. Jacques Heath (Lily May Peel)       </td><td>female</td><td style=\"text-align: right;\">   35</td><td style=\"text-align: right;\">      1</td><td style=\"text-align: right;\">      0</td><td style=\"text-align: right;\">  113803</td><td style=\"text-align: right;\">53.1   </td><td>C123   </td><td>S         </td></tr>\n",
       "<tr><td style=\"text-align: right;\">            5</td><td style=\"text-align: right;\">         0</td><td style=\"text-align: right;\">       3</td><td>Allen, Mr. William Henry                           </td><td>male  </td><td style=\"text-align: right;\">   35</td><td style=\"text-align: right;\">      0</td><td style=\"text-align: right;\">      0</td><td style=\"text-align: right;\">  373450</td><td style=\"text-align: right;\"> 8.05  </td><td>nan    </td><td>S         </td></tr>\n",
       "<tr><td style=\"text-align: right;\">            6</td><td style=\"text-align: right;\">         0</td><td style=\"text-align: right;\">       3</td><td>Moran, Mr. James                                   </td><td>male  </td><td style=\"text-align: right;\">  nan</td><td style=\"text-align: right;\">      0</td><td style=\"text-align: right;\">      0</td><td style=\"text-align: right;\">  330877</td><td style=\"text-align: right;\"> 8.4583</td><td>nan    </td><td>Q         </td></tr>\n",
       "<tr><td style=\"text-align: right;\">            7</td><td style=\"text-align: right;\">         0</td><td style=\"text-align: right;\">       1</td><td>McCarthy, Mr. Timothy J                            </td><td>male  </td><td style=\"text-align: right;\">   54</td><td style=\"text-align: right;\">      0</td><td style=\"text-align: right;\">      0</td><td style=\"text-align: right;\">   17463</td><td style=\"text-align: right;\">51.8625</td><td>E46    </td><td>S         </td></tr>\n",
       "<tr><td style=\"text-align: right;\">            8</td><td style=\"text-align: right;\">         0</td><td style=\"text-align: right;\">       3</td><td>Palsson, Master. Gosta Leonard                     </td><td>male  </td><td style=\"text-align: right;\">    2</td><td style=\"text-align: right;\">      3</td><td style=\"text-align: right;\">      1</td><td style=\"text-align: right;\">  349909</td><td style=\"text-align: right;\">21.075 </td><td>nan    </td><td>S         </td></tr>\n",
       "<tr><td style=\"text-align: right;\">            9</td><td style=\"text-align: right;\">         1</td><td style=\"text-align: right;\">       3</td><td>Johnson, Mrs. Oscar W (Elisabeth Vilhelmina Berg)  </td><td>female</td><td style=\"text-align: right;\">   27</td><td style=\"text-align: right;\">      0</td><td style=\"text-align: right;\">      2</td><td style=\"text-align: right;\">  347742</td><td style=\"text-align: right;\">11.1333</td><td>nan    </td><td>S         </td></tr>\n",
       "<tr><td style=\"text-align: right;\">           10</td><td style=\"text-align: right;\">         1</td><td style=\"text-align: right;\">       2</td><td>Nasser, Mrs. Nicholas (Adele Achem)                </td><td>female</td><td style=\"text-align: right;\">   14</td><td style=\"text-align: right;\">      1</td><td style=\"text-align: right;\">      0</td><td style=\"text-align: right;\">  237736</td><td style=\"text-align: right;\">30.0708</td><td>nan    </td><td>C         </td></tr>\n",
       "</tbody>\n",
       "</table>"
      ]
     },
     "metadata": {},
     "output_type": "display_data"
    },
    {
     "data": {
      "text/plain": []
     },
     "execution_count": 77,
     "metadata": {},
     "output_type": "execute_result"
    }
   ],
   "source": [
    "df_pandas=pd.read_csv('titanic.csv')\n",
    "titanic=h2o.H2OFrame(df_pandas)\n",
    "df"
   ]
  },
  {
   "cell_type": "code",
   "execution_count": 148,
   "metadata": {},
   "outputs": [
    {
     "name": "stdout",
     "output_type": "stream",
     "text": [
      "Parse progress: |█████████████████████████████████████████████████████████| 100%\n"
     ]
    },
    {
     "data": {
      "text/html": [
       "<table>\n",
       "<thead>\n",
       "<tr><th style=\"text-align: right;\">  A</th><th>B  </th><th>C    </th><th>D                  </th></tr>\n",
       "</thead>\n",
       "<tbody>\n",
       "<tr><td style=\"text-align: right;\">  1</td><td>a  </td><td>hello</td><td>2015-03-12 11:00:00</td></tr>\n",
       "<tr><td style=\"text-align: right;\">  2</td><td>a  </td><td>all  </td><td>2015-03-13 12:00:00</td></tr>\n",
       "<tr><td style=\"text-align: right;\">  3</td><td>b  </td><td>world</td><td>                   </td></tr>\n",
       "<tr><td style=\"text-align: right;\">nan</td><td>NA </td><td>     </td><td>                   </td></tr>\n",
       "<tr><td style=\"text-align: right;\">nan</td><td>NA </td><td>     </td><td>2015-03-14 13:00:00</td></tr>\n",
       "</tbody>\n",
       "</table>"
      ]
     },
     "metadata": {},
     "output_type": "display_data"
    },
    {
     "data": {
      "text/plain": []
     },
     "execution_count": 148,
     "metadata": {},
     "output_type": "execute_result"
    }
   ],
   "source": [
    "df2 = h2o.H2OFrame.from_python({'A': [1, 2, 3, None,''],\n",
    "                                'B': ['a', 'a', 'b', 'NA','NA'],\n",
    "                                'C': ['hello', 'all', 'world', None, None],\n",
    "                                'D': ['12MAR2015:11:00:00', '13MAR2015:12:00:00', None, None,'14MAR2015:13:00:00']},\n",
    "                                column_types=['numeric', 'enum', 'string', 'time'])\n",
    "df2"
   ]
  },
  {
   "cell_type": "code",
   "execution_count": 79,
   "metadata": {},
   "outputs": [
    {
     "data": {
      "text/plain": [
       "{'A': 'int', 'B': 'enum', 'C': 'string', 'D': 'time'}"
      ]
     },
     "execution_count": 79,
     "metadata": {},
     "output_type": "execute_result"
    }
   ],
   "source": [
    "df2.types"
   ]
  },
  {
   "cell_type": "markdown",
   "metadata": {},
   "source": [
    "## 3. Conocer los datos"
   ]
  },
  {
   "cell_type": "code",
   "execution_count": 83,
   "metadata": {},
   "outputs": [
    {
     "data": {
      "text/html": [
       "<table>\n",
       "<thead>\n",
       "<tr><th style=\"text-align: right;\">  PassengerId</th><th style=\"text-align: right;\">  Survived</th><th style=\"text-align: right;\">  Pclass</th><th>Name                                               </th><th>Sex   </th><th style=\"text-align: right;\">  Age</th><th style=\"text-align: right;\">  SibSp</th><th style=\"text-align: right;\">  Parch</th><th style=\"text-align: right;\">  Ticket</th><th style=\"text-align: right;\">   Fare</th><th>Cabin  </th><th>Embarked  </th></tr>\n",
       "</thead>\n",
       "<tbody>\n",
       "<tr><td style=\"text-align: right;\">            1</td><td style=\"text-align: right;\">         0</td><td style=\"text-align: right;\">       3</td><td>Braund, Mr. Owen Harris                            </td><td>male  </td><td style=\"text-align: right;\">   22</td><td style=\"text-align: right;\">      1</td><td style=\"text-align: right;\">      0</td><td style=\"text-align: right;\">     nan</td><td style=\"text-align: right;\"> 7.25  </td><td>       </td><td>S         </td></tr>\n",
       "<tr><td style=\"text-align: right;\">            2</td><td style=\"text-align: right;\">         1</td><td style=\"text-align: right;\">       1</td><td>Cumings, Mrs. John Bradley (Florence Briggs Thayer)</td><td>female</td><td style=\"text-align: right;\">   38</td><td style=\"text-align: right;\">      1</td><td style=\"text-align: right;\">      0</td><td style=\"text-align: right;\">     nan</td><td style=\"text-align: right;\">71.2833</td><td>C85    </td><td>C         </td></tr>\n",
       "<tr><td style=\"text-align: right;\">            3</td><td style=\"text-align: right;\">         1</td><td style=\"text-align: right;\">       3</td><td>Heikkinen, Miss. Laina                             </td><td>female</td><td style=\"text-align: right;\">   26</td><td style=\"text-align: right;\">      0</td><td style=\"text-align: right;\">      0</td><td style=\"text-align: right;\">     nan</td><td style=\"text-align: right;\"> 7.925 </td><td>       </td><td>S         </td></tr>\n",
       "<tr><td style=\"text-align: right;\">            4</td><td style=\"text-align: right;\">         1</td><td style=\"text-align: right;\">       1</td><td>Futrelle, Mrs. Jacques Heath (Lily May Peel)       </td><td>female</td><td style=\"text-align: right;\">   35</td><td style=\"text-align: right;\">      1</td><td style=\"text-align: right;\">      0</td><td style=\"text-align: right;\">  113803</td><td style=\"text-align: right;\">53.1   </td><td>C123   </td><td>S         </td></tr>\n",
       "</tbody>\n",
       "</table>"
      ]
     },
     "metadata": {},
     "output_type": "display_data"
    },
    {
     "data": {
      "text/plain": []
     },
     "execution_count": 83,
     "metadata": {},
     "output_type": "execute_result"
    }
   ],
   "source": [
    "titanic.head(4)"
   ]
  },
  {
   "cell_type": "code",
   "execution_count": 92,
   "metadata": {},
   "outputs": [
    {
     "data": {
      "text/html": [
       "<table>\n",
       "<thead>\n",
       "<tr><th style=\"text-align: right;\">  PassengerId</th><th style=\"text-align: right;\">  Survived</th><th style=\"text-align: right;\">  Pclass</th><th>Name                                    </th><th>Sex   </th><th style=\"text-align: right;\">  Age</th><th style=\"text-align: right;\">  SibSp</th><th style=\"text-align: right;\">  Parch</th><th style=\"text-align: right;\">  Ticket</th><th style=\"text-align: right;\">  Fare</th><th>Cabin  </th><th>Embarked  </th></tr>\n",
       "</thead>\n",
       "<tbody>\n",
       "<tr><td style=\"text-align: right;\">          888</td><td style=\"text-align: right;\">         1</td><td style=\"text-align: right;\">       1</td><td>Graham, Miss. Margaret Edith            </td><td>female</td><td style=\"text-align: right;\">   19</td><td style=\"text-align: right;\">      0</td><td style=\"text-align: right;\">      0</td><td style=\"text-align: right;\">  112053</td><td style=\"text-align: right;\"> 30   </td><td>B42    </td><td>S         </td></tr>\n",
       "<tr><td style=\"text-align: right;\">          889</td><td style=\"text-align: right;\">         0</td><td style=\"text-align: right;\">       3</td><td>Johnston, Miss. Catherine Helen \"Carrie\"</td><td>female</td><td style=\"text-align: right;\">  nan</td><td style=\"text-align: right;\">      1</td><td style=\"text-align: right;\">      2</td><td style=\"text-align: right;\">     nan</td><td style=\"text-align: right;\"> 23.45</td><td>       </td><td>S         </td></tr>\n",
       "<tr><td style=\"text-align: right;\">          890</td><td style=\"text-align: right;\">         1</td><td style=\"text-align: right;\">       1</td><td>Behr, Mr. Karl Howell                   </td><td>male  </td><td style=\"text-align: right;\">   26</td><td style=\"text-align: right;\">      0</td><td style=\"text-align: right;\">      0</td><td style=\"text-align: right;\">  111369</td><td style=\"text-align: right;\"> 30   </td><td>C148   </td><td>C         </td></tr>\n",
       "<tr><td style=\"text-align: right;\">          891</td><td style=\"text-align: right;\">         0</td><td style=\"text-align: right;\">       3</td><td>Dooley, Mr. Patrick                     </td><td>male  </td><td style=\"text-align: right;\">   32</td><td style=\"text-align: right;\">      0</td><td style=\"text-align: right;\">      0</td><td style=\"text-align: right;\">  370376</td><td style=\"text-align: right;\">  7.75</td><td>       </td><td>Q         </td></tr>\n",
       "</tbody>\n",
       "</table>"
      ]
     },
     "metadata": {},
     "output_type": "display_data"
    },
    {
     "data": {
      "text/plain": []
     },
     "execution_count": 92,
     "metadata": {},
     "output_type": "execute_result"
    }
   ],
   "source": [
    "titanic.tail(4)"
   ]
  },
  {
   "cell_type": "code",
   "execution_count": 110,
   "metadata": {},
   "outputs": [
    {
     "data": {
      "text/plain": [
       "['PassengerId',\n",
       " 'Survived',\n",
       " 'Pclass',\n",
       " 'Name',\n",
       " 'Sex',\n",
       " 'Age',\n",
       " 'SibSp',\n",
       " 'Parch',\n",
       " 'Ticket',\n",
       " 'Fare',\n",
       " 'Cabin',\n",
       " 'Embarked']"
      ]
     },
     "execution_count": 110,
     "metadata": {},
     "output_type": "execute_result"
    }
   ],
   "source": [
    "titanic.columns"
   ]
  },
  {
   "cell_type": "code",
   "execution_count": 111,
   "metadata": {},
   "outputs": [
    {
     "data": {
      "text/plain": [
       "{'PassengerId': 'int',\n",
       " 'Survived': 'int',\n",
       " 'Pclass': 'int',\n",
       " 'Name': 'string',\n",
       " 'Sex': 'enum',\n",
       " 'Age': 'real',\n",
       " 'SibSp': 'int',\n",
       " 'Parch': 'int',\n",
       " 'Ticket': 'int',\n",
       " 'Fare': 'real',\n",
       " 'Cabin': 'enum',\n",
       " 'Embarked': 'enum'}"
      ]
     },
     "execution_count": 111,
     "metadata": {},
     "output_type": "execute_result"
    }
   ],
   "source": [
    "titanic.types"
   ]
  },
  {
   "cell_type": "code",
   "execution_count": null,
   "metadata": {},
   "outputs": [],
   "source": []
  },
  {
   "cell_type": "code",
   "execution_count": 99,
   "metadata": {},
   "outputs": [
    {
     "data": {
      "text/html": [
       "<table>\n",
       "<thead>\n",
       "<tr><th>Name                                               </th><th>Sex   </th></tr>\n",
       "</thead>\n",
       "<tbody>\n",
       "<tr><td>Braund, Mr. Owen Harris                            </td><td>male  </td></tr>\n",
       "<tr><td>Cumings, Mrs. John Bradley (Florence Briggs Thayer)</td><td>female</td></tr>\n",
       "<tr><td>Heikkinen, Miss. Laina                             </td><td>female</td></tr>\n",
       "<tr><td>Futrelle, Mrs. Jacques Heath (Lily May Peel)       </td><td>female</td></tr>\n",
       "<tr><td>Allen, Mr. William Henry                           </td><td>male  </td></tr>\n",
       "<tr><td>Moran, Mr. James                                   </td><td>male  </td></tr>\n",
       "<tr><td>McCarthy, Mr. Timothy J                            </td><td>male  </td></tr>\n",
       "<tr><td>Palsson, Master. Gosta Leonard                     </td><td>male  </td></tr>\n",
       "<tr><td>Johnson, Mrs. Oscar W (Elisabeth Vilhelmina Berg)  </td><td>female</td></tr>\n",
       "<tr><td>Nasser, Mrs. Nicholas (Adele Achem)                </td><td>female</td></tr>\n",
       "</tbody>\n",
       "</table>"
      ]
     },
     "metadata": {},
     "output_type": "display_data"
    },
    {
     "data": {
      "text/plain": []
     },
     "execution_count": 99,
     "metadata": {},
     "output_type": "execute_result"
    }
   ],
   "source": [
    "titanic[['Name']]\n",
    "titanic[['Name','Sex']]"
   ]
  },
  {
   "cell_type": "code",
   "execution_count": 101,
   "metadata": {},
   "outputs": [
    {
     "data": {
      "text/html": [
       "<table>\n",
       "<thead>\n",
       "<tr><th style=\"text-align: right;\">  Survived</th><th style=\"text-align: right;\">  Pclass</th><th>Name                                        </th><th>Sex   </th></tr>\n",
       "</thead>\n",
       "<tbody>\n",
       "<tr><td style=\"text-align: right;\">         1</td><td style=\"text-align: right;\">       1</td><td>Futrelle, Mrs. Jacques Heath (Lily May Peel)</td><td>female</td></tr>\n",
       "<tr><td style=\"text-align: right;\">         0</td><td style=\"text-align: right;\">       3</td><td>Allen, Mr. William Henry                    </td><td>male  </td></tr>\n",
       "</tbody>\n",
       "</table>"
      ]
     },
     "metadata": {},
     "output_type": "display_data"
    },
    {
     "data": {
      "text/plain": []
     },
     "execution_count": 101,
     "metadata": {},
     "output_type": "execute_result"
    }
   ],
   "source": [
    "titanic[3:5, 1:5]"
   ]
  },
  {
   "cell_type": "code",
   "execution_count": 103,
   "metadata": {},
   "outputs": [
    {
     "data": {
      "text/html": [
       "<table>\n",
       "<thead>\n",
       "<tr><th style=\"text-align: right;\">  PassengerId</th><th style=\"text-align: right;\">  Survived</th><th style=\"text-align: right;\">  Pclass</th><th>Name                                               </th><th>Sex   </th><th style=\"text-align: right;\">  Age</th><th style=\"text-align: right;\">  SibSp</th><th style=\"text-align: right;\">  Parch</th><th style=\"text-align: right;\">  Ticket</th><th style=\"text-align: right;\">   Fare</th><th>Cabin  </th><th>Embarked  </th></tr>\n",
       "</thead>\n",
       "<tbody>\n",
       "<tr><td style=\"text-align: right;\">            2</td><td style=\"text-align: right;\">         1</td><td style=\"text-align: right;\">       1</td><td>Cumings, Mrs. John Bradley (Florence Briggs Thayer)</td><td>female</td><td style=\"text-align: right;\">   38</td><td style=\"text-align: right;\">      1</td><td style=\"text-align: right;\">      0</td><td style=\"text-align: right;\">     nan</td><td style=\"text-align: right;\">71.2833</td><td>C85    </td><td>C         </td></tr>\n",
       "<tr><td style=\"text-align: right;\">            3</td><td style=\"text-align: right;\">         1</td><td style=\"text-align: right;\">       3</td><td>Heikkinen, Miss. Laina                             </td><td>female</td><td style=\"text-align: right;\">   26</td><td style=\"text-align: right;\">      0</td><td style=\"text-align: right;\">      0</td><td style=\"text-align: right;\">     nan</td><td style=\"text-align: right;\"> 7.925 </td><td>       </td><td>S         </td></tr>\n",
       "<tr><td style=\"text-align: right;\">            4</td><td style=\"text-align: right;\">         1</td><td style=\"text-align: right;\">       1</td><td>Futrelle, Mrs. Jacques Heath (Lily May Peel)       </td><td>female</td><td style=\"text-align: right;\">   35</td><td style=\"text-align: right;\">      1</td><td style=\"text-align: right;\">      0</td><td style=\"text-align: right;\">  113803</td><td style=\"text-align: right;\">53.1   </td><td>C123   </td><td>S         </td></tr>\n",
       "<tr><td style=\"text-align: right;\">            9</td><td style=\"text-align: right;\">         1</td><td style=\"text-align: right;\">       3</td><td>Johnson, Mrs. Oscar W (Elisabeth Vilhelmina Berg)  </td><td>female</td><td style=\"text-align: right;\">   27</td><td style=\"text-align: right;\">      0</td><td style=\"text-align: right;\">      2</td><td style=\"text-align: right;\">  347742</td><td style=\"text-align: right;\">11.1333</td><td>       </td><td>S         </td></tr>\n",
       "<tr><td style=\"text-align: right;\">           10</td><td style=\"text-align: right;\">         1</td><td style=\"text-align: right;\">       2</td><td>Nasser, Mrs. Nicholas (Adele Achem)                </td><td>female</td><td style=\"text-align: right;\">   14</td><td style=\"text-align: right;\">      1</td><td style=\"text-align: right;\">      0</td><td style=\"text-align: right;\">  237736</td><td style=\"text-align: right;\">30.0708</td><td>       </td><td>C         </td></tr>\n",
       "<tr><td style=\"text-align: right;\">           11</td><td style=\"text-align: right;\">         1</td><td style=\"text-align: right;\">       3</td><td>Sandstrom, Miss. Marguerite Rut                    </td><td>female</td><td style=\"text-align: right;\">    4</td><td style=\"text-align: right;\">      1</td><td style=\"text-align: right;\">      1</td><td style=\"text-align: right;\">     nan</td><td style=\"text-align: right;\">16.7   </td><td>G6     </td><td>S         </td></tr>\n",
       "<tr><td style=\"text-align: right;\">           12</td><td style=\"text-align: right;\">         1</td><td style=\"text-align: right;\">       1</td><td>Bonnell, Miss. Elizabeth                           </td><td>female</td><td style=\"text-align: right;\">   58</td><td style=\"text-align: right;\">      0</td><td style=\"text-align: right;\">      0</td><td style=\"text-align: right;\">  113783</td><td style=\"text-align: right;\">26.55  </td><td>C103   </td><td>S         </td></tr>\n",
       "<tr><td style=\"text-align: right;\">           16</td><td style=\"text-align: right;\">         1</td><td style=\"text-align: right;\">       2</td><td>Hewlett, Mrs. (Mary D Kingcome)                    </td><td>female</td><td style=\"text-align: right;\">   55</td><td style=\"text-align: right;\">      0</td><td style=\"text-align: right;\">      0</td><td style=\"text-align: right;\">  248706</td><td style=\"text-align: right;\">16     </td><td>       </td><td>S         </td></tr>\n",
       "<tr><td style=\"text-align: right;\">           18</td><td style=\"text-align: right;\">         1</td><td style=\"text-align: right;\">       2</td><td>Williams, Mr. Charles Eugene                       </td><td>male  </td><td style=\"text-align: right;\">  nan</td><td style=\"text-align: right;\">      0</td><td style=\"text-align: right;\">      0</td><td style=\"text-align: right;\">  244373</td><td style=\"text-align: right;\">13     </td><td>       </td><td>S         </td></tr>\n",
       "<tr><td style=\"text-align: right;\">           20</td><td style=\"text-align: right;\">         1</td><td style=\"text-align: right;\">       3</td><td>Masselmani, Mrs. Fatima                            </td><td>female</td><td style=\"text-align: right;\">  nan</td><td style=\"text-align: right;\">      0</td><td style=\"text-align: right;\">      0</td><td style=\"text-align: right;\">    2649</td><td style=\"text-align: right;\"> 7.225 </td><td>       </td><td>C         </td></tr>\n",
       "</tbody>\n",
       "</table>"
      ]
     },
     "metadata": {},
     "output_type": "display_data"
    },
    {
     "data": {
      "text/plain": []
     },
     "execution_count": 103,
     "metadata": {},
     "output_type": "execute_result"
    }
   ],
   "source": [
    "titanic[titanic['Survived']==1]"
   ]
  },
  {
   "cell_type": "markdown",
   "metadata": {},
   "source": [
    "#### Arreglar sus flaquezas"
   ]
  },
  {
   "cell_type": "code",
   "execution_count": 124,
   "metadata": {},
   "outputs": [
    {
     "data": {
      "text/html": [
       "<table>\n",
       "<thead>\n",
       "<tr><th style=\"text-align: right;\">  A</th><th>B  </th><th>C    </th><th>D                  </th></tr>\n",
       "</thead>\n",
       "<tbody>\n",
       "<tr><td style=\"text-align: right;\">  1</td><td>a  </td><td>hello</td><td>2015-03-12 11:00:00</td></tr>\n",
       "<tr><td style=\"text-align: right;\">  2</td><td>a  </td><td>all  </td><td>2015-03-13 12:00:00</td></tr>\n",
       "<tr><td style=\"text-align: right;\">  3</td><td>b  </td><td>world</td><td>                   </td></tr>\n",
       "<tr><td style=\"text-align: right;\">nan</td><td>NA </td><td>     </td><td>                   </td></tr>\n",
       "<tr><td style=\"text-align: right;\">nan</td><td>NA </td><td>     </td><td>2015-03-14 13:00:00</td></tr>\n",
       "</tbody>\n",
       "</table>"
      ]
     },
     "metadata": {},
     "output_type": "display_data"
    },
    {
     "data": {
      "text/plain": []
     },
     "execution_count": 124,
     "metadata": {},
     "output_type": "execute_result"
    }
   ],
   "source": [
    "df2"
   ]
  },
  {
   "cell_type": "code",
   "execution_count": 125,
   "metadata": {},
   "outputs": [
    {
     "data": {
      "text/html": [
       "<table>\n",
       "<thead>\n",
       "<tr><th style=\"text-align: right;\">  isNA(A)</th><th style=\"text-align: right;\">  isNA(B)</th><th style=\"text-align: right;\">  isNA(C)</th><th style=\"text-align: right;\">  isNA(D)</th></tr>\n",
       "</thead>\n",
       "<tbody>\n",
       "<tr><td style=\"text-align: right;\">        0</td><td style=\"text-align: right;\">        0</td><td style=\"text-align: right;\">        0</td><td style=\"text-align: right;\">        0</td></tr>\n",
       "<tr><td style=\"text-align: right;\">        0</td><td style=\"text-align: right;\">        0</td><td style=\"text-align: right;\">        0</td><td style=\"text-align: right;\">        0</td></tr>\n",
       "<tr><td style=\"text-align: right;\">        0</td><td style=\"text-align: right;\">        0</td><td style=\"text-align: right;\">        0</td><td style=\"text-align: right;\">        1</td></tr>\n",
       "<tr><td style=\"text-align: right;\">        1</td><td style=\"text-align: right;\">        0</td><td style=\"text-align: right;\">        0</td><td style=\"text-align: right;\">        1</td></tr>\n",
       "<tr><td style=\"text-align: right;\">        1</td><td style=\"text-align: right;\">        0</td><td style=\"text-align: right;\">        0</td><td style=\"text-align: right;\">        0</td></tr>\n",
       "</tbody>\n",
       "</table>"
      ]
     },
     "metadata": {},
     "output_type": "display_data"
    },
    {
     "data": {
      "text/plain": []
     },
     "execution_count": 125,
     "metadata": {},
     "output_type": "execute_result"
    }
   ],
   "source": [
    "df2.isna()"
   ]
  },
  {
   "cell_type": "code",
   "execution_count": 133,
   "metadata": {},
   "outputs": [
    {
     "data": {
      "text/html": [
       "<table>\n",
       "<thead>\n",
       "<tr><th style=\"text-align: right;\">  A</th><th>B  </th><th>C    </th><th>D                  </th></tr>\n",
       "</thead>\n",
       "<tbody>\n",
       "<tr><td style=\"text-align: right;\">  1</td><td>a  </td><td>hello</td><td>2015-03-12 11:00:00</td></tr>\n",
       "<tr><td style=\"text-align: right;\">  2</td><td>a  </td><td>all  </td><td>2015-03-13 12:00:00</td></tr>\n",
       "<tr><td style=\"text-align: right;\">  3</td><td>b  </td><td>world</td><td>                   </td></tr>\n",
       "<tr><td style=\"text-align: right;\">  5</td><td>NA </td><td>     </td><td>                   </td></tr>\n",
       "<tr><td style=\"text-align: right;\">  5</td><td>NA </td><td>     </td><td>2015-03-14 13:00:00</td></tr>\n",
       "</tbody>\n",
       "</table>"
      ]
     },
     "metadata": {},
     "output_type": "display_data"
    },
    {
     "data": {
      "text/plain": []
     },
     "execution_count": 133,
     "metadata": {},
     "output_type": "execute_result"
    }
   ],
   "source": [
    "df3=df2\n",
    "df3[ df3[\"A\"].isna(), \"A\"] = 5\n",
    "df3"
   ]
  },
  {
   "cell_type": "markdown",
   "metadata": {},
   "source": [
    "## 4. Bailar con los datos"
   ]
  },
  {
   "cell_type": "code",
   "execution_count": 166,
   "metadata": {},
   "outputs": [
    {
     "name": "stdout",
     "output_type": "stream",
     "text": [
      "Parse progress: |█████████████████████████████████████████████████████████| 100%\n"
     ]
    }
   ],
   "source": [
    "df_random = h2o.H2OFrame.from_python(np.random.randn(100,4).tolist(), column_names=list('ABCD'))\n"
   ]
  },
  {
   "cell_type": "code",
   "execution_count": 197,
   "metadata": {},
   "outputs": [
    {
     "data": {
      "text/html": [
       "<table>\n",
       "<thead>\n",
       "<tr><th style=\"text-align: right;\">        A</th><th style=\"text-align: right;\">        B</th><th style=\"text-align: right;\">       C</th><th style=\"text-align: right;\">       D</th></tr>\n",
       "</thead>\n",
       "<tbody>\n",
       "<tr><td style=\"text-align: right;\"> 3.59784 </td><td style=\"text-align: right;\">0.900849 </td><td style=\"text-align: right;\">0.874126</td><td style=\"text-align: right;\">0.279624</td></tr>\n",
       "<tr><td style=\"text-align: right;\"> 2.27473 </td><td style=\"text-align: right;\">0.0177207</td><td style=\"text-align: right;\">1.51391 </td><td style=\"text-align: right;\">3.09779 </td></tr>\n",
       "<tr><td style=\"text-align: right;\"> 0.997366</td><td style=\"text-align: right;\">2.38577  </td><td style=\"text-align: right;\">2.35818 </td><td style=\"text-align: right;\">1.12071 </td></tr>\n",
       "<tr><td style=\"text-align: right;\"> 0.948394</td><td style=\"text-align: right;\">2.66405  </td><td style=\"text-align: right;\">3.10661 </td><td style=\"text-align: right;\">1.77978 </td></tr>\n",
       "<tr><td style=\"text-align: right;\"> 1.08816 </td><td style=\"text-align: right;\">3.87716  </td><td style=\"text-align: right;\">0.218198</td><td style=\"text-align: right;\">0.407211</td></tr>\n",
       "<tr><td style=\"text-align: right;\">-0.454611</td><td style=\"text-align: right;\">0.551996 </td><td style=\"text-align: right;\">1.92013 </td><td style=\"text-align: right;\">2.49257 </td></tr>\n",
       "<tr><td style=\"text-align: right;\"> 1.73894 </td><td style=\"text-align: right;\">1.84384  </td><td style=\"text-align: right;\">1.63198 </td><td style=\"text-align: right;\">1.67829 </td></tr>\n",
       "<tr><td style=\"text-align: right;\"> 1.82543 </td><td style=\"text-align: right;\">2.25761  </td><td style=\"text-align: right;\">1.86473 </td><td style=\"text-align: right;\">1.77967 </td></tr>\n",
       "<tr><td style=\"text-align: right;\"> 2.58378 </td><td style=\"text-align: right;\">2.44581  </td><td style=\"text-align: right;\">2.85334 </td><td style=\"text-align: right;\">1.50219 </td></tr>\n",
       "<tr><td style=\"text-align: right;\"> 1.22549 </td><td style=\"text-align: right;\">1.37476  </td><td style=\"text-align: right;\">0.526116</td><td style=\"text-align: right;\">2.27241 </td></tr>\n",
       "</tbody>\n",
       "</table>"
      ]
     },
     "metadata": {},
     "output_type": "display_data"
    },
    {
     "data": {
      "text/plain": []
     },
     "execution_count": 197,
     "metadata": {},
     "output_type": "execute_result"
    }
   ],
   "source": [
    "df_random.apply(lambda x: x+2)"
   ]
  },
  {
   "cell_type": "markdown",
   "metadata": {},
   "source": [
    "### Tensar la cuerda"
   ]
  },
  {
   "cell_type": "code",
   "execution_count": 181,
   "metadata": {},
   "outputs": [
    {
     "name": "stdout",
     "output_type": "stream",
     "text": [
      "Parse progress: |█████████████████████████████████████████████████████████| 100%\n"
     ]
    }
   ],
   "source": [
    "df7 = h2o.H2OFrame.from_python(['Hello', 'World', 'Welcome', 'To', 'H2O', 'World'])"
   ]
  },
  {
   "cell_type": "code",
   "execution_count": 182,
   "metadata": {},
   "outputs": [
    {
     "data": {
      "text/html": [
       "<table>\n",
       "<thead>\n",
       "<tr><th style=\"text-align: right;\">  C1</th></tr>\n",
       "</thead>\n",
       "<tbody>\n",
       "<tr><td style=\"text-align: right;\">   2</td></tr>\n",
       "<tr><td style=\"text-align: right;\">   1</td></tr>\n",
       "<tr><td style=\"text-align: right;\">   1</td></tr>\n",
       "<tr><td style=\"text-align: right;\">   0</td></tr>\n",
       "<tr><td style=\"text-align: right;\">   0</td></tr>\n",
       "<tr><td style=\"text-align: right;\">   1</td></tr>\n",
       "</tbody>\n",
       "</table>"
      ]
     },
     "metadata": {},
     "output_type": "display_data"
    },
    {
     "data": {
      "text/plain": []
     },
     "execution_count": 182,
     "metadata": {},
     "output_type": "execute_result"
    }
   ],
   "source": [
    "df7.countmatches('l')"
   ]
  },
  {
   "cell_type": "code",
   "execution_count": 195,
   "metadata": {},
   "outputs": [
    {
     "data": {
      "text/html": [
       "<table>\n",
       "<thead>\n",
       "<tr><th>C1     </th></tr>\n",
       "</thead>\n",
       "<tbody>\n",
       "<tr><td>Hexo   </td></tr>\n",
       "<tr><td>Worxd  </td></tr>\n",
       "<tr><td>Wexcome</td></tr>\n",
       "<tr><td>To     </td></tr>\n",
       "<tr><td>H2O    </td></tr>\n",
       "<tr><td>Worxd  </td></tr>\n",
       "</tbody>\n",
       "</table>"
      ]
     },
     "metadata": {},
     "output_type": "display_data"
    },
    {
     "data": {
      "text/plain": []
     },
     "execution_count": 195,
     "metadata": {},
     "output_type": "execute_result"
    }
   ],
   "source": [
    "df7.gsub('l+','x')"
   ]
  },
  {
   "cell_type": "code",
   "execution_count": 196,
   "metadata": {},
   "outputs": [
    {
     "data": {
      "text/html": [
       "<table>\n",
       "<thead>\n",
       "<tr><th>C1  </th><th>C2  </th></tr>\n",
       "</thead>\n",
       "<tbody>\n",
       "<tr><td>He  </td><td>o   </td></tr>\n",
       "<tr><td>Wor </td><td>d   </td></tr>\n",
       "<tr><td>We  </td><td>come</td></tr>\n",
       "<tr><td>To  </td><td>    </td></tr>\n",
       "<tr><td>H2O </td><td>    </td></tr>\n",
       "<tr><td>Wor </td><td>d   </td></tr>\n",
       "</tbody>\n",
       "</table>"
      ]
     },
     "metadata": {},
     "output_type": "display_data"
    },
    {
     "data": {
      "text/plain": []
     },
     "execution_count": 196,
     "metadata": {},
     "output_type": "execute_result"
    }
   ],
   "source": [
    "df7.strsplit('(l)+')"
   ]
  },
  {
   "cell_type": "markdown",
   "metadata": {},
   "source": [
    "### Los datos se juntan con otros datos. Puede ser mi noche de suerte?"
   ]
  },
  {
   "cell_type": "markdown",
   "metadata": {},
   "source": [
    "Combinar data frames"
   ]
  },
  {
   "cell_type": "code",
   "execution_count": 211,
   "metadata": {},
   "outputs": [
    {
     "name": "stdout",
     "output_type": "stream",
     "text": [
      "Parse progress: |█████████████████████████████████████████████████████████| 100%\n",
      "Parse progress: |█████████████████████████████████████████████████████████| 100%\n"
     ]
    },
    {
     "data": {
      "text/html": [
       "<table>\n",
       "<thead>\n",
       "<tr><th style=\"text-align: right;\">         A</th><th style=\"text-align: right;\">         B</th><th style=\"text-align: right;\">        C</th><th style=\"text-align: right;\">        D</th><th style=\"text-align: right;\">       A0</th><th style=\"text-align: right;\">       B0</th><th style=\"text-align: right;\">       C0</th><th style=\"text-align: right;\">      D0</th></tr>\n",
       "</thead>\n",
       "<tbody>\n",
       "<tr><td style=\"text-align: right;\"> 0.0996147</td><td style=\"text-align: right;\"> 0.0505273</td><td style=\"text-align: right;\">-0.949532</td><td style=\"text-align: right;\"> 0.330681</td><td style=\"text-align: right;\">-0.872098</td><td style=\"text-align: right;\">-1.11195 </td><td style=\"text-align: right;\"> 0.540782</td><td style=\"text-align: right;\">1.02874 </td></tr>\n",
       "<tr><td style=\"text-align: right;\"> 1.58122  </td><td style=\"text-align: right;\"> 0.166556 </td><td style=\"text-align: right;\"> 1.56805 </td><td style=\"text-align: right;\">-0.224889</td><td style=\"text-align: right;\"> 0.689945</td><td style=\"text-align: right;\">-0.535441</td><td style=\"text-align: right;\"> 0.641205</td><td style=\"text-align: right;\">0.621192</td></tr>\n",
       "<tr><td style=\"text-align: right;\"> 0.016067 </td><td style=\"text-align: right;\">-1.05291  </td><td style=\"text-align: right;\">-0.986707</td><td style=\"text-align: right;\">-0.440243</td><td style=\"text-align: right;\">-1.43204 </td><td style=\"text-align: right;\"> 0.306243</td><td style=\"text-align: right;\">-0.197341</td><td style=\"text-align: right;\">1.948   </td></tr>\n",
       "<tr><td style=\"text-align: right;\">-1.35964  </td><td style=\"text-align: right;\">-1.23251  </td><td style=\"text-align: right;\"> 1.94415 </td><td style=\"text-align: right;\"> 1.04689 </td><td style=\"text-align: right;\"> 0.382284</td><td style=\"text-align: right;\">-0.142055</td><td style=\"text-align: right;\">-1.67256 </td><td style=\"text-align: right;\">0.85849 </td></tr>\n",
       "</tbody>\n",
       "</table>"
      ]
     },
     "metadata": {},
     "output_type": "display_data"
    },
    {
     "data": {
      "text/plain": []
     },
     "execution_count": 211,
     "metadata": {},
     "output_type": "execute_result"
    }
   ],
   "source": [
    "df1 = h2o.H2OFrame.from_python(np.random.randn(4,4).tolist(), column_names=list('ABCD'))\n",
    "df2 = h2o.H2OFrame.from_python(np.random.randn(4,4).tolist(), column_names=list('ABCD'))\n",
    "\n",
    "df1.cbind(df2)"
   ]
  },
  {
   "cell_type": "code",
   "execution_count": 212,
   "metadata": {},
   "outputs": [
    {
     "data": {
      "text/html": [
       "<table>\n",
       "<thead>\n",
       "<tr><th style=\"text-align: right;\">         A</th><th style=\"text-align: right;\">         B</th><th style=\"text-align: right;\">        C</th><th style=\"text-align: right;\">        D</th></tr>\n",
       "</thead>\n",
       "<tbody>\n",
       "<tr><td style=\"text-align: right;\"> 0.0996147</td><td style=\"text-align: right;\"> 0.0505273</td><td style=\"text-align: right;\">-0.949532</td><td style=\"text-align: right;\"> 0.330681</td></tr>\n",
       "<tr><td style=\"text-align: right;\"> 1.58122  </td><td style=\"text-align: right;\"> 0.166556 </td><td style=\"text-align: right;\"> 1.56805 </td><td style=\"text-align: right;\">-0.224889</td></tr>\n",
       "<tr><td style=\"text-align: right;\"> 0.016067 </td><td style=\"text-align: right;\">-1.05291  </td><td style=\"text-align: right;\">-0.986707</td><td style=\"text-align: right;\">-0.440243</td></tr>\n",
       "<tr><td style=\"text-align: right;\">-1.35964  </td><td style=\"text-align: right;\">-1.23251  </td><td style=\"text-align: right;\"> 1.94415 </td><td style=\"text-align: right;\"> 1.04689 </td></tr>\n",
       "<tr><td style=\"text-align: right;\">-0.872098 </td><td style=\"text-align: right;\">-1.11195  </td><td style=\"text-align: right;\"> 0.540782</td><td style=\"text-align: right;\"> 1.02874 </td></tr>\n",
       "<tr><td style=\"text-align: right;\"> 0.689945 </td><td style=\"text-align: right;\">-0.535441 </td><td style=\"text-align: right;\"> 0.641205</td><td style=\"text-align: right;\"> 0.621192</td></tr>\n",
       "<tr><td style=\"text-align: right;\">-1.43204  </td><td style=\"text-align: right;\"> 0.306243 </td><td style=\"text-align: right;\">-0.197341</td><td style=\"text-align: right;\"> 1.948   </td></tr>\n",
       "<tr><td style=\"text-align: right;\"> 0.382284 </td><td style=\"text-align: right;\">-0.142055 </td><td style=\"text-align: right;\">-1.67256 </td><td style=\"text-align: right;\"> 0.85849 </td></tr>\n",
       "</tbody>\n",
       "</table>"
      ]
     },
     "metadata": {},
     "output_type": "display_data"
    },
    {
     "data": {
      "text/plain": []
     },
     "execution_count": 212,
     "metadata": {},
     "output_type": "execute_result"
    }
   ],
   "source": [
    "df1.rbind(df2)"
   ]
  },
  {
   "cell_type": "markdown",
   "metadata": {},
   "source": [
    "Groupby y Merge"
   ]
  },
  {
   "cell_type": "code",
   "execution_count": 215,
   "metadata": {},
   "outputs": [
    {
     "name": "stdout",
     "output_type": "stream",
     "text": [
      "Parse progress: |█████████████████████████████████████████████████████████| 100%\n"
     ]
    },
    {
     "data": {
      "text/html": [
       "<table>\n",
       "<thead>\n",
       "<tr><th>A  </th><th style=\"text-align: right;\">  sum_B</th><th style=\"text-align: right;\">    sum_C</th><th style=\"text-align: right;\">    sum_D</th></tr>\n",
       "</thead>\n",
       "<tbody>\n",
       "<tr><td>bar</td><td style=\"text-align: right;\">      3</td><td style=\"text-align: right;\">-0.394669</td><td style=\"text-align: right;\">-0.372188</td></tr>\n",
       "<tr><td>foo</td><td style=\"text-align: right;\">      5</td><td style=\"text-align: right;\">-0.913626</td><td style=\"text-align: right;\">-0.431778</td></tr>\n",
       "</tbody>\n",
       "</table>"
      ]
     },
     "metadata": {},
     "output_type": "display_data"
    },
    {
     "data": {
      "text/plain": []
     },
     "execution_count": 215,
     "metadata": {},
     "output_type": "execute_result"
    }
   ],
   "source": [
    "df1 = h2o.H2OFrame(\n",
    "    {'A' : ['foo', 'bar', 'foo', 'bar', 'foo', 'bar', 'foo', 'foo'],\n",
    "     'B' : ['one', 'one', 'two', 'three', 'two', 'two', 'one', 'three'],\n",
    "     'C' : np.random.randn(8).tolist(),\n",
    "     'D' : np.random.randn(8).tolist()})\n",
    "\n",
    "df1.group_by('A').sum().frame"
   ]
  },
  {
   "cell_type": "code",
   "execution_count": 216,
   "metadata": {},
   "outputs": [],
   "source": [
    "df2 = df1.group_by(['A','B']).sum().frame"
   ]
  },
  {
   "cell_type": "code",
   "execution_count": 217,
   "metadata": {},
   "outputs": [
    {
     "data": {
      "text/html": [
       "<table>\n",
       "<thead>\n",
       "<tr><th>B    </th><th>A  </th><th style=\"text-align: right;\">        C</th><th style=\"text-align: right;\">         D</th><th style=\"text-align: right;\">     sum_C</th><th style=\"text-align: right;\">    sum_D</th></tr>\n",
       "</thead>\n",
       "<tbody>\n",
       "<tr><td>one  </td><td>bar</td><td style=\"text-align: right;\">-0.631174</td><td style=\"text-align: right;\"> 0.987765 </td><td style=\"text-align: right;\">-0.631174 </td><td style=\"text-align: right;\"> 0.987765</td></tr>\n",
       "<tr><td>one  </td><td>foo</td><td style=\"text-align: right;\">-2.07933 </td><td style=\"text-align: right;\">-0.0418752</td><td style=\"text-align: right;\">-1.70533  </td><td style=\"text-align: right;\">-1.85922 </td></tr>\n",
       "<tr><td>one  </td><td>foo</td><td style=\"text-align: right;\"> 0.373996</td><td style=\"text-align: right;\">-1.81735  </td><td style=\"text-align: right;\">-1.70533  </td><td style=\"text-align: right;\">-1.85922 </td></tr>\n",
       "<tr><td>three</td><td>bar</td><td style=\"text-align: right;\">-0.43494 </td><td style=\"text-align: right;\">-1.84041  </td><td style=\"text-align: right;\">-0.43494  </td><td style=\"text-align: right;\">-1.84041 </td></tr>\n",
       "<tr><td>three</td><td>foo</td><td style=\"text-align: right;\"> 0.852194</td><td style=\"text-align: right;\"> 1.32049  </td><td style=\"text-align: right;\"> 0.852194 </td><td style=\"text-align: right;\"> 1.32049 </td></tr>\n",
       "<tr><td>two  </td><td>bar</td><td style=\"text-align: right;\"> 0.671445</td><td style=\"text-align: right;\"> 0.48046  </td><td style=\"text-align: right;\"> 0.671445 </td><td style=\"text-align: right;\"> 0.48046 </td></tr>\n",
       "<tr><td>two  </td><td>foo</td><td style=\"text-align: right;\"> 0.779728</td><td style=\"text-align: right;\">-0.0599804</td><td style=\"text-align: right;\">-0.0604889</td><td style=\"text-align: right;\"> 0.106954</td></tr>\n",
       "<tr><td>two  </td><td>foo</td><td style=\"text-align: right;\">-0.840217</td><td style=\"text-align: right;\"> 0.166934 </td><td style=\"text-align: right;\">-0.0604889</td><td style=\"text-align: right;\"> 0.106954</td></tr>\n",
       "</tbody>\n",
       "</table>"
      ]
     },
     "metadata": {},
     "output_type": "display_data"
    },
    {
     "data": {
      "text/plain": []
     },
     "execution_count": 217,
     "metadata": {},
     "output_type": "execute_result"
    }
   ],
   "source": [
    "df1.merge(df2)"
   ]
  },
  {
   "cell_type": "markdown",
   "metadata": {},
   "source": [
    "Unión de variables categóricas"
   ]
  },
  {
   "cell_type": "code",
   "execution_count": 218,
   "metadata": {},
   "outputs": [
    {
     "data": {
      "text/plain": [
       "True"
      ]
     },
     "execution_count": 218,
     "metadata": {},
     "output_type": "execute_result"
    }
   ],
   "source": [
    "df12.anyfactor()"
   ]
  },
  {
   "cell_type": "code",
   "execution_count": 219,
   "metadata": {},
   "outputs": [
    {
     "data": {
      "text/plain": [
       "[['bar', 'foo']]"
      ]
     },
     "execution_count": 219,
     "metadata": {},
     "output_type": "execute_result"
    }
   ],
   "source": [
    "df12[\"A\"].levels()"
   ]
  },
  {
   "cell_type": "code",
   "execution_count": 220,
   "metadata": {},
   "outputs": [
    {
     "name": "stdout",
     "output_type": "stream",
     "text": [
      "Interactions progress: |██████████████████████████████████████████████████| 100%\n"
     ]
    },
    {
     "data": {
      "text/html": [
       "<table>\n",
       "<thead>\n",
       "<tr><th>A_B      </th></tr>\n",
       "</thead>\n",
       "<tbody>\n",
       "<tr><td>foo_one  </td></tr>\n",
       "<tr><td>bar_one  </td></tr>\n",
       "<tr><td>foo_two  </td></tr>\n",
       "<tr><td>bar_three</td></tr>\n",
       "<tr><td>foo_two  </td></tr>\n",
       "<tr><td>bar_two  </td></tr>\n",
       "<tr><td>foo_one  </td></tr>\n",
       "<tr><td>foo_three</td></tr>\n",
       "</tbody>\n",
       "</table>"
      ]
     },
     "metadata": {},
     "output_type": "display_data"
    },
    {
     "data": {
      "text/plain": []
     },
     "execution_count": 220,
     "metadata": {},
     "output_type": "execute_result"
    }
   ],
   "source": [
    "df12.interaction(['A','B'], pairwise=False, max_factors=7, min_occurrence=1)"
   ]
  }
 ],
 "metadata": {
  "kernelspec": {
   "display_name": "Python 3",
   "language": "python",
   "name": "python3"
  },
  "language_info": {
   "codemirror_mode": {
    "name": "ipython",
    "version": 3
   },
   "file_extension": ".py",
   "mimetype": "text/x-python",
   "name": "python",
   "nbconvert_exporter": "python",
   "pygments_lexer": "ipython3",
   "version": "3.7.4"
  }
 },
 "nbformat": 4,
 "nbformat_minor": 2
}
